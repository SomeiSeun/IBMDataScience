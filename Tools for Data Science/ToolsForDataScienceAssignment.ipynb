{
 "cells": [
  {
   "cell_type": "markdown",
   "id": "872f8bea-387b-4945-b09f-8f8692aaf322",
   "metadata": {},
   "source": [
    "# My Juypter Notebook on IBM Watson Studio"
   ]
  },
  {
   "cell_type": "markdown",
   "id": "029f0bb1-cfc5-4bd6-93c3-812c90b7cc07",
   "metadata": {},
   "source": [
    "**Tanmay Ubgade**\n",
    "\n",
    "Unemployed and aspiring to be a data scientist"
   ]
  },
  {
   "cell_type": "markdown",
   "id": "a58d69ba-1a01-4b80-b865-13d2fc8349db",
   "metadata": {},
   "source": [
    "*I became interested in data science since I really enjoyed my Artificial Intelligence course during university. I see this as an opportunity to expand my skills in coding, and applying my these methodologies and my creativity to conduct interesting analyses in both my future employment and personal projects.*"
   ]
  },
  {
   "cell_type": "markdown",
   "id": "01f9bada-e845-4c63-9762-c4bc24e7c82f",
   "metadata": {},
   "source": [
    "### The code in the line below will compute the result of 9 + 10"
   ]
  },
  {
   "cell_type": "code",
   "execution_count": 2,
   "id": "6fccf9f3-d508-45c8-a0bd-8153847ca5f5",
   "metadata": {},
   "outputs": [
    {
     "data": {
      "text/plain": [
       "19"
      ]
     },
     "execution_count": 2,
     "metadata": {},
     "output_type": "execute_result"
    }
   ],
   "source": [
    "9 + 10"
   ]
  },
  {
   "cell_type": "markdown",
   "id": "f565c046-0865-4e92-b47f-a4059d8a8047",
   "metadata": {},
   "source": [
    "Anyways, if you wish to check out some fun wrestling matches feel free to check out the ones I've linked below:\n",
    "\n",
    "|      |Brock Lesnar|Finn Bálor|Kevin Owens|\n",
    "|------|-----|----|----|\n",
    "|**Roman Reigns**|[Banger](https://www.youtube.com/watch?v=lz8uGiItP-o)|[Banger](https://www.youtube.com/watch?v=WNgjCgwAL04)|[Banger](https://www.youtube.com/watch?v=FqHl1NEohmY)|\n",
    "| **John Cena** |[Suplex City](https://www.youtube.com/watch?v=I4iJwE2LKB4)|[Banger](https://www.youtube.com/watch?v=EmgSqmNbIy0)|[Banger](https://www.youtube.com/watch?v=WV7ZVMbzNAk)|\n",
    "|**Seth Rollins**|[Banger](https://www.youtube.com/watch?v=I_g76qwbMLk)|[Banger](https://www.youtube.com/watch?v=prjZrAIQz2Q)|[Banger](https://www.youtube.com/watch?v=fhkDWj7RxQs)|\n",
    "\n",
    "> *Banger after Banger after Banger after Banger after Banger after Banger after Banger after Banger after Banger after Banger after Banger after Banger after Banger after Banger after Banger after Banger after Banger after Banger after Banger after Banger after Banger after Banger.*\n",
    "\n",
    "– Sheamus, 27 August 2022 ([link](https://twitter.com/wwesheamus/status/1563338056089800704))\n",
    "\n",
    "\n",
    "I've met the following requirements from the assignment:\n",
    "1. Numbered list\n",
    "2. Table\n",
    "3. Hyperlinks\n",
    "4. Blocked quotes\n",
    "5. Images\n",
    "\n",
    "<p><a href=\"https://twitter.com/wwesheamus/status/1563338056089800704\"><img src=\"https://staticg.sportskeeda.com/editor/2022/11/a8be1-16696120380699-1920.jpg\" style=\"width:403px;height:620px;\"></a></p>"
   ]
  }
 ],
 "metadata": {
  "kernelspec": {
   "display_name": "Python 3 (ipykernel)",
   "language": "python",
   "name": "python3"
  },
  "language_info": {
   "codemirror_mode": {
    "name": "ipython",
    "version": 3
   },
   "file_extension": ".py",
   "mimetype": "text/x-python",
   "name": "python",
   "nbconvert_exporter": "python",
   "pygments_lexer": "ipython3",
   "version": "3.9.7"
  }
 },
 "nbformat": 4,
 "nbformat_minor": 5
}
